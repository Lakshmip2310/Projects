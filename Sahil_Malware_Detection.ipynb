{
  "cells": [
    {
      "cell_type": "code",
      "execution_count": null,
      "metadata": {
        "id": "AGQgecMQJ_Th",
        "outputId": "43c2b2e3-2229-47d1-e744-2fed96799888",
        "colab": {
          "base_uri": "https://localhost:8080/",
          "height": 1000
        }
      },
      "outputs": [
        {
          "output_type": "error",
          "ename": "FileNotFoundError",
          "evalue": "ignored",
          "traceback": [
            "\u001b[0;31m---------------------------------------------------------------------------\u001b[0m",
            "\u001b[0;31mFileNotFoundError\u001b[0m                         Traceback (most recent call last)",
            "\u001b[0;32m<ipython-input-1-2ca069ec2f4f>\u001b[0m in \u001b[0;36m<module>\u001b[0;34m()\u001b[0m\n\u001b[1;32m      1\u001b[0m \u001b[0;32mimport\u001b[0m \u001b[0mpandas\u001b[0m \u001b[0;32mas\u001b[0m \u001b[0mpd\u001b[0m\u001b[0;34m\u001b[0m\u001b[0;34m\u001b[0m\u001b[0m\n\u001b[0;32m----> 2\u001b[0;31m \u001b[0mmalData\u001b[0m\u001b[0;34m=\u001b[0m\u001b[0mpd\u001b[0m\u001b[0;34m.\u001b[0m\u001b[0mread_csv\u001b[0m\u001b[0;34m(\u001b[0m\u001b[0;34mr' MalwareData.csv.gz'\u001b[0m\u001b[0;34m,\u001b[0m\u001b[0msep\u001b[0m\u001b[0;34m=\u001b[0m\u001b[0;34m'|'\u001b[0m\u001b[0;34m)\u001b[0m\u001b[0;34m\u001b[0m\u001b[0;34m\u001b[0m\u001b[0m\n\u001b[0m\u001b[1;32m      3\u001b[0m \u001b[0mlegit\u001b[0m\u001b[0;34m=\u001b[0m\u001b[0mmalData\u001b[0m\u001b[0;34m[\u001b[0m\u001b[0;36m0\u001b[0m\u001b[0;34m:\u001b[0m\u001b[0;36m41323\u001b[0m\u001b[0;34m]\u001b[0m\u001b[0;34m.\u001b[0m\u001b[0mdrop\u001b[0m\u001b[0;34m(\u001b[0m\u001b[0;34m[\u001b[0m\u001b[0;34m\"legitimate\"\u001b[0m\u001b[0;34m]\u001b[0m\u001b[0;34m,\u001b[0m\u001b[0maxis\u001b[0m\u001b[0;34m=\u001b[0m\u001b[0;36m1\u001b[0m\u001b[0;34m)\u001b[0m\u001b[0;34m\u001b[0m\u001b[0;34m\u001b[0m\u001b[0m\n\u001b[1;32m      4\u001b[0m \u001b[0mmal\u001b[0m\u001b[0;34m=\u001b[0m\u001b[0mmalData\u001b[0m\u001b[0;34m[\u001b[0m\u001b[0;36m41323\u001b[0m\u001b[0;34m:\u001b[0m\u001b[0;34m:\u001b[0m\u001b[0;34m]\u001b[0m\u001b[0;34m.\u001b[0m\u001b[0mdrop\u001b[0m\u001b[0;34m(\u001b[0m\u001b[0;34m[\u001b[0m\u001b[0;34m\"legitimate\"\u001b[0m\u001b[0;34m]\u001b[0m\u001b[0;34m,\u001b[0m\u001b[0maxis\u001b[0m\u001b[0;34m=\u001b[0m\u001b[0;36m1\u001b[0m\u001b[0;34m)\u001b[0m\u001b[0;34m\u001b[0m\u001b[0;34m\u001b[0m\u001b[0m\n\u001b[1;32m      5\u001b[0m \u001b[0mprint\u001b[0m\u001b[0;34m(\u001b[0m\u001b[0;34m\"The shape of the legit dataset is : %s samples, %s features\"\u001b[0m\u001b[0;34m%\u001b[0m\u001b[0;34m(\u001b[0m\u001b[0mlegit\u001b[0m\u001b[0;34m.\u001b[0m\u001b[0mshape\u001b[0m\u001b[0;34m[\u001b[0m\u001b[0;36m0\u001b[0m\u001b[0;34m]\u001b[0m\u001b[0;34m,\u001b[0m\u001b[0mlegit\u001b[0m\u001b[0;34m.\u001b[0m\u001b[0mshape\u001b[0m\u001b[0;34m[\u001b[0m\u001b[0;36m1\u001b[0m\u001b[0;34m]\u001b[0m\u001b[0;34m)\u001b[0m\u001b[0;34m)\u001b[0m\u001b[0;34m\u001b[0m\u001b[0;34m\u001b[0m\u001b[0m\n",
            "\u001b[0;32m/usr/local/lib/python3.7/dist-packages/pandas/util/_decorators.py\u001b[0m in \u001b[0;36mwrapper\u001b[0;34m(*args, **kwargs)\u001b[0m\n\u001b[1;32m    309\u001b[0m                     \u001b[0mstacklevel\u001b[0m\u001b[0;34m=\u001b[0m\u001b[0mstacklevel\u001b[0m\u001b[0;34m,\u001b[0m\u001b[0;34m\u001b[0m\u001b[0;34m\u001b[0m\u001b[0m\n\u001b[1;32m    310\u001b[0m                 )\n\u001b[0;32m--> 311\u001b[0;31m             \u001b[0;32mreturn\u001b[0m \u001b[0mfunc\u001b[0m\u001b[0;34m(\u001b[0m\u001b[0;34m*\u001b[0m\u001b[0margs\u001b[0m\u001b[0;34m,\u001b[0m \u001b[0;34m**\u001b[0m\u001b[0mkwargs\u001b[0m\u001b[0;34m)\u001b[0m\u001b[0;34m\u001b[0m\u001b[0;34m\u001b[0m\u001b[0m\n\u001b[0m\u001b[1;32m    312\u001b[0m \u001b[0;34m\u001b[0m\u001b[0m\n\u001b[1;32m    313\u001b[0m         \u001b[0;32mreturn\u001b[0m \u001b[0mwrapper\u001b[0m\u001b[0;34m\u001b[0m\u001b[0;34m\u001b[0m\u001b[0m\n",
            "\u001b[0;32m/usr/local/lib/python3.7/dist-packages/pandas/io/parsers/readers.py\u001b[0m in \u001b[0;36mread_csv\u001b[0;34m(filepath_or_buffer, sep, delimiter, header, names, index_col, usecols, squeeze, prefix, mangle_dupe_cols, dtype, engine, converters, true_values, false_values, skipinitialspace, skiprows, skipfooter, nrows, na_values, keep_default_na, na_filter, verbose, skip_blank_lines, parse_dates, infer_datetime_format, keep_date_col, date_parser, dayfirst, cache_dates, iterator, chunksize, compression, thousands, decimal, lineterminator, quotechar, quoting, doublequote, escapechar, comment, encoding, encoding_errors, dialect, error_bad_lines, warn_bad_lines, on_bad_lines, delim_whitespace, low_memory, memory_map, float_precision, storage_options)\u001b[0m\n\u001b[1;32m    584\u001b[0m     \u001b[0mkwds\u001b[0m\u001b[0;34m.\u001b[0m\u001b[0mupdate\u001b[0m\u001b[0;34m(\u001b[0m\u001b[0mkwds_defaults\u001b[0m\u001b[0;34m)\u001b[0m\u001b[0;34m\u001b[0m\u001b[0;34m\u001b[0m\u001b[0m\n\u001b[1;32m    585\u001b[0m \u001b[0;34m\u001b[0m\u001b[0m\n\u001b[0;32m--> 586\u001b[0;31m     \u001b[0;32mreturn\u001b[0m \u001b[0m_read\u001b[0m\u001b[0;34m(\u001b[0m\u001b[0mfilepath_or_buffer\u001b[0m\u001b[0;34m,\u001b[0m \u001b[0mkwds\u001b[0m\u001b[0;34m)\u001b[0m\u001b[0;34m\u001b[0m\u001b[0;34m\u001b[0m\u001b[0m\n\u001b[0m\u001b[1;32m    587\u001b[0m \u001b[0;34m\u001b[0m\u001b[0m\n\u001b[1;32m    588\u001b[0m \u001b[0;34m\u001b[0m\u001b[0m\n",
            "\u001b[0;32m/usr/local/lib/python3.7/dist-packages/pandas/io/parsers/readers.py\u001b[0m in \u001b[0;36m_read\u001b[0;34m(filepath_or_buffer, kwds)\u001b[0m\n\u001b[1;32m    480\u001b[0m \u001b[0;34m\u001b[0m\u001b[0m\n\u001b[1;32m    481\u001b[0m     \u001b[0;31m# Create the parser.\u001b[0m\u001b[0;34m\u001b[0m\u001b[0;34m\u001b[0m\u001b[0;34m\u001b[0m\u001b[0m\n\u001b[0;32m--> 482\u001b[0;31m     \u001b[0mparser\u001b[0m \u001b[0;34m=\u001b[0m \u001b[0mTextFileReader\u001b[0m\u001b[0;34m(\u001b[0m\u001b[0mfilepath_or_buffer\u001b[0m\u001b[0;34m,\u001b[0m \u001b[0;34m**\u001b[0m\u001b[0mkwds\u001b[0m\u001b[0;34m)\u001b[0m\u001b[0;34m\u001b[0m\u001b[0;34m\u001b[0m\u001b[0m\n\u001b[0m\u001b[1;32m    483\u001b[0m \u001b[0;34m\u001b[0m\u001b[0m\n\u001b[1;32m    484\u001b[0m     \u001b[0;32mif\u001b[0m \u001b[0mchunksize\u001b[0m \u001b[0;32mor\u001b[0m \u001b[0miterator\u001b[0m\u001b[0;34m:\u001b[0m\u001b[0;34m\u001b[0m\u001b[0;34m\u001b[0m\u001b[0m\n",
            "\u001b[0;32m/usr/local/lib/python3.7/dist-packages/pandas/io/parsers/readers.py\u001b[0m in \u001b[0;36m__init__\u001b[0;34m(self, f, engine, **kwds)\u001b[0m\n\u001b[1;32m    809\u001b[0m             \u001b[0mself\u001b[0m\u001b[0;34m.\u001b[0m\u001b[0moptions\u001b[0m\u001b[0;34m[\u001b[0m\u001b[0;34m\"has_index_names\"\u001b[0m\u001b[0;34m]\u001b[0m \u001b[0;34m=\u001b[0m \u001b[0mkwds\u001b[0m\u001b[0;34m[\u001b[0m\u001b[0;34m\"has_index_names\"\u001b[0m\u001b[0;34m]\u001b[0m\u001b[0;34m\u001b[0m\u001b[0;34m\u001b[0m\u001b[0m\n\u001b[1;32m    810\u001b[0m \u001b[0;34m\u001b[0m\u001b[0m\n\u001b[0;32m--> 811\u001b[0;31m         \u001b[0mself\u001b[0m\u001b[0;34m.\u001b[0m\u001b[0m_engine\u001b[0m \u001b[0;34m=\u001b[0m \u001b[0mself\u001b[0m\u001b[0;34m.\u001b[0m\u001b[0m_make_engine\u001b[0m\u001b[0;34m(\u001b[0m\u001b[0mself\u001b[0m\u001b[0;34m.\u001b[0m\u001b[0mengine\u001b[0m\u001b[0;34m)\u001b[0m\u001b[0;34m\u001b[0m\u001b[0;34m\u001b[0m\u001b[0m\n\u001b[0m\u001b[1;32m    812\u001b[0m \u001b[0;34m\u001b[0m\u001b[0m\n\u001b[1;32m    813\u001b[0m     \u001b[0;32mdef\u001b[0m \u001b[0mclose\u001b[0m\u001b[0;34m(\u001b[0m\u001b[0mself\u001b[0m\u001b[0;34m)\u001b[0m\u001b[0;34m:\u001b[0m\u001b[0;34m\u001b[0m\u001b[0;34m\u001b[0m\u001b[0m\n",
            "\u001b[0;32m/usr/local/lib/python3.7/dist-packages/pandas/io/parsers/readers.py\u001b[0m in \u001b[0;36m_make_engine\u001b[0;34m(self, engine)\u001b[0m\n\u001b[1;32m   1038\u001b[0m             )\n\u001b[1;32m   1039\u001b[0m         \u001b[0;31m# error: Too many arguments for \"ParserBase\"\u001b[0m\u001b[0;34m\u001b[0m\u001b[0;34m\u001b[0m\u001b[0;34m\u001b[0m\u001b[0m\n\u001b[0;32m-> 1040\u001b[0;31m         \u001b[0;32mreturn\u001b[0m \u001b[0mmapping\u001b[0m\u001b[0;34m[\u001b[0m\u001b[0mengine\u001b[0m\u001b[0;34m]\u001b[0m\u001b[0;34m(\u001b[0m\u001b[0mself\u001b[0m\u001b[0;34m.\u001b[0m\u001b[0mf\u001b[0m\u001b[0;34m,\u001b[0m \u001b[0;34m**\u001b[0m\u001b[0mself\u001b[0m\u001b[0;34m.\u001b[0m\u001b[0moptions\u001b[0m\u001b[0;34m)\u001b[0m  \u001b[0;31m# type: ignore[call-arg]\u001b[0m\u001b[0;34m\u001b[0m\u001b[0;34m\u001b[0m\u001b[0m\n\u001b[0m\u001b[1;32m   1041\u001b[0m \u001b[0;34m\u001b[0m\u001b[0m\n\u001b[1;32m   1042\u001b[0m     \u001b[0;32mdef\u001b[0m \u001b[0m_failover_to_python\u001b[0m\u001b[0;34m(\u001b[0m\u001b[0mself\u001b[0m\u001b[0;34m)\u001b[0m\u001b[0;34m:\u001b[0m\u001b[0;34m\u001b[0m\u001b[0;34m\u001b[0m\u001b[0m\n",
            "\u001b[0;32m/usr/local/lib/python3.7/dist-packages/pandas/io/parsers/c_parser_wrapper.py\u001b[0m in \u001b[0;36m__init__\u001b[0;34m(self, src, **kwds)\u001b[0m\n\u001b[1;32m     49\u001b[0m \u001b[0;34m\u001b[0m\u001b[0m\n\u001b[1;32m     50\u001b[0m         \u001b[0;31m# open handles\u001b[0m\u001b[0;34m\u001b[0m\u001b[0;34m\u001b[0m\u001b[0;34m\u001b[0m\u001b[0m\n\u001b[0;32m---> 51\u001b[0;31m         \u001b[0mself\u001b[0m\u001b[0;34m.\u001b[0m\u001b[0m_open_handles\u001b[0m\u001b[0;34m(\u001b[0m\u001b[0msrc\u001b[0m\u001b[0;34m,\u001b[0m \u001b[0mkwds\u001b[0m\u001b[0;34m)\u001b[0m\u001b[0;34m\u001b[0m\u001b[0;34m\u001b[0m\u001b[0m\n\u001b[0m\u001b[1;32m     52\u001b[0m         \u001b[0;32massert\u001b[0m \u001b[0mself\u001b[0m\u001b[0;34m.\u001b[0m\u001b[0mhandles\u001b[0m \u001b[0;32mis\u001b[0m \u001b[0;32mnot\u001b[0m \u001b[0;32mNone\u001b[0m\u001b[0;34m\u001b[0m\u001b[0;34m\u001b[0m\u001b[0m\n\u001b[1;32m     53\u001b[0m \u001b[0;34m\u001b[0m\u001b[0m\n",
            "\u001b[0;32m/usr/local/lib/python3.7/dist-packages/pandas/io/parsers/base_parser.py\u001b[0m in \u001b[0;36m_open_handles\u001b[0;34m(self, src, kwds)\u001b[0m\n\u001b[1;32m    227\u001b[0m             \u001b[0mmemory_map\u001b[0m\u001b[0;34m=\u001b[0m\u001b[0mkwds\u001b[0m\u001b[0;34m.\u001b[0m\u001b[0mget\u001b[0m\u001b[0;34m(\u001b[0m\u001b[0;34m\"memory_map\"\u001b[0m\u001b[0;34m,\u001b[0m \u001b[0;32mFalse\u001b[0m\u001b[0;34m)\u001b[0m\u001b[0;34m,\u001b[0m\u001b[0;34m\u001b[0m\u001b[0;34m\u001b[0m\u001b[0m\n\u001b[1;32m    228\u001b[0m             \u001b[0mstorage_options\u001b[0m\u001b[0;34m=\u001b[0m\u001b[0mkwds\u001b[0m\u001b[0;34m.\u001b[0m\u001b[0mget\u001b[0m\u001b[0;34m(\u001b[0m\u001b[0;34m\"storage_options\"\u001b[0m\u001b[0;34m,\u001b[0m \u001b[0;32mNone\u001b[0m\u001b[0;34m)\u001b[0m\u001b[0;34m,\u001b[0m\u001b[0;34m\u001b[0m\u001b[0;34m\u001b[0m\u001b[0m\n\u001b[0;32m--> 229\u001b[0;31m             \u001b[0merrors\u001b[0m\u001b[0;34m=\u001b[0m\u001b[0mkwds\u001b[0m\u001b[0;34m.\u001b[0m\u001b[0mget\u001b[0m\u001b[0;34m(\u001b[0m\u001b[0;34m\"encoding_errors\"\u001b[0m\u001b[0;34m,\u001b[0m \u001b[0;34m\"strict\"\u001b[0m\u001b[0;34m)\u001b[0m\u001b[0;34m,\u001b[0m\u001b[0;34m\u001b[0m\u001b[0;34m\u001b[0m\u001b[0m\n\u001b[0m\u001b[1;32m    230\u001b[0m         )\n\u001b[1;32m    231\u001b[0m \u001b[0;34m\u001b[0m\u001b[0m\n",
            "\u001b[0;32m/usr/local/lib/python3.7/dist-packages/pandas/io/common.py\u001b[0m in \u001b[0;36mget_handle\u001b[0;34m(path_or_buf, mode, encoding, compression, memory_map, is_text, errors, storage_options)\u001b[0m\n\u001b[1;32m    643\u001b[0m                     \u001b[0mfilename\u001b[0m\u001b[0;34m=\u001b[0m\u001b[0mhandle\u001b[0m\u001b[0;34m,\u001b[0m\u001b[0;34m\u001b[0m\u001b[0;34m\u001b[0m\u001b[0m\n\u001b[1;32m    644\u001b[0m                     \u001b[0mmode\u001b[0m\u001b[0;34m=\u001b[0m\u001b[0mioargs\u001b[0m\u001b[0;34m.\u001b[0m\u001b[0mmode\u001b[0m\u001b[0;34m,\u001b[0m\u001b[0;34m\u001b[0m\u001b[0;34m\u001b[0m\u001b[0m\n\u001b[0;32m--> 645\u001b[0;31m                     \u001b[0;34m**\u001b[0m\u001b[0mcompression_args\u001b[0m\u001b[0;34m,\u001b[0m\u001b[0;34m\u001b[0m\u001b[0;34m\u001b[0m\u001b[0m\n\u001b[0m\u001b[1;32m    646\u001b[0m                 )\n\u001b[1;32m    647\u001b[0m             \u001b[0;32melse\u001b[0m\u001b[0;34m:\u001b[0m\u001b[0;34m\u001b[0m\u001b[0;34m\u001b[0m\u001b[0m\n",
            "\u001b[0;32m/usr/lib/python3.7/gzip.py\u001b[0m in \u001b[0;36m__init__\u001b[0;34m(self, filename, mode, compresslevel, fileobj, mtime)\u001b[0m\n\u001b[1;32m    166\u001b[0m             \u001b[0mmode\u001b[0m \u001b[0;34m+=\u001b[0m \u001b[0;34m'b'\u001b[0m\u001b[0;34m\u001b[0m\u001b[0;34m\u001b[0m\u001b[0m\n\u001b[1;32m    167\u001b[0m         \u001b[0;32mif\u001b[0m \u001b[0mfileobj\u001b[0m \u001b[0;32mis\u001b[0m \u001b[0;32mNone\u001b[0m\u001b[0;34m:\u001b[0m\u001b[0;34m\u001b[0m\u001b[0;34m\u001b[0m\u001b[0m\n\u001b[0;32m--> 168\u001b[0;31m             \u001b[0mfileobj\u001b[0m \u001b[0;34m=\u001b[0m \u001b[0mself\u001b[0m\u001b[0;34m.\u001b[0m\u001b[0mmyfileobj\u001b[0m \u001b[0;34m=\u001b[0m \u001b[0mbuiltins\u001b[0m\u001b[0;34m.\u001b[0m\u001b[0mopen\u001b[0m\u001b[0;34m(\u001b[0m\u001b[0mfilename\u001b[0m\u001b[0;34m,\u001b[0m \u001b[0mmode\u001b[0m \u001b[0;32mor\u001b[0m \u001b[0;34m'rb'\u001b[0m\u001b[0;34m)\u001b[0m\u001b[0;34m\u001b[0m\u001b[0;34m\u001b[0m\u001b[0m\n\u001b[0m\u001b[1;32m    169\u001b[0m         \u001b[0;32mif\u001b[0m \u001b[0mfilename\u001b[0m \u001b[0;32mis\u001b[0m \u001b[0;32mNone\u001b[0m\u001b[0;34m:\u001b[0m\u001b[0;34m\u001b[0m\u001b[0;34m\u001b[0m\u001b[0m\n\u001b[1;32m    170\u001b[0m             \u001b[0mfilename\u001b[0m \u001b[0;34m=\u001b[0m \u001b[0mgetattr\u001b[0m\u001b[0;34m(\u001b[0m\u001b[0mfileobj\u001b[0m\u001b[0;34m,\u001b[0m \u001b[0;34m'name'\u001b[0m\u001b[0;34m,\u001b[0m \u001b[0;34m''\u001b[0m\u001b[0;34m)\u001b[0m\u001b[0;34m\u001b[0m\u001b[0;34m\u001b[0m\u001b[0m\n",
            "\u001b[0;31mFileNotFoundError\u001b[0m: [Errno 2] No such file or directory: ' MalwareData.csv.gz'"
          ]
        }
      ],
      "source": [
        "import pandas as pd\n",
        "malData=pd.read_csv(r' MalwareData.csv.gz',sep='|')\n",
        "legit=malData[0:41323].drop([\"legitimate\"],axis=1)\n",
        "mal=malData[41323::].drop([\"legitimate\"],axis=1)\n",
        "print(\"The shape of the legit dataset is : %s samples, %s features\"%(legit.shape[0],legit.shape[1]))\n",
        "print(\"The shape of the malware dataset is: %s samples, %s features\"%(mal.shape[0],mal.shape[1]))"
      ]
    },
    {
      "cell_type": "code",
      "execution_count": null,
      "metadata": {
        "id": "YoaaIHujJ_Tw",
        "outputId": "dd96899f-aebf-477d-d46d-6d0fce69fe64"
      },
      "outputs": [
        {
          "name": "stdout",
          "output_type": "stream",
          "text": [
            "Index(['Name', 'md5', 'Machine', 'SizeOfOptionalHeader', 'Characteristics',\n",
            "       'MajorLinkerVersion', 'MinorLinkerVersion', 'SizeOfCode',\n",
            "       'SizeOfInitializedData', 'SizeOfUninitializedData',\n",
            "       'AddressOfEntryPoint', 'BaseOfCode', 'BaseOfData', 'ImageBase',\n",
            "       'SectionAlignment', 'FileAlignment', 'MajorOperatingSystemVersion',\n",
            "       'MinorOperatingSystemVersion', 'MajorImageVersion', 'MinorImageVersion',\n",
            "       'MajorSubsystemVersion', 'MinorSubsystemVersion', 'SizeOfImage',\n",
            "       'SizeOfHeaders', 'CheckSum', 'Subsystem', 'DllCharacteristics',\n",
            "       'SizeOfStackReserve', 'SizeOfStackCommit', 'SizeOfHeapReserve',\n",
            "       'SizeOfHeapCommit', 'LoaderFlags', 'NumberOfRvaAndSizes', 'SectionsNb',\n",
            "       'SectionsMeanEntropy', 'SectionsMinEntropy', 'SectionsMaxEntropy',\n",
            "       'SectionsMeanRawsize', 'SectionsMinRawsize', 'SectionMaxRawsize',\n",
            "       'SectionsMeanVirtualsize', 'SectionsMinVirtualsize',\n",
            "       'SectionMaxVirtualsize', 'ImportsNbDLL', 'ImportsNb',\n",
            "       'ImportsNbOrdinal', 'ExportNb', 'ResourcesNb', 'ResourcesMeanEntropy',\n",
            "       'ResourcesMinEntropy', 'ResourcesMaxEntropy', 'ResourcesMeanSize',\n",
            "       'ResourcesMinSize', 'ResourcesMaxSize', 'LoadConfigurationSize',\n",
            "       'VersionInformationSize', 'legitimate'],\n",
            "      dtype='object')\n"
          ]
        }
      ],
      "source": [
        "print(malData.columns)"
      ]
    },
    {
      "cell_type": "code",
      "execution_count": null,
      "metadata": {
        "id": "uUeMAJ-CJ_Ty",
        "outputId": "7f658444-4833-4bf9-d936-3c9dd2800e32"
      },
      "outputs": [
        {
          "name": "stdout",
          "output_type": "stream",
          "text": [
            "           Name                               md5  Machine  \\\n",
            "0   memtest.exe  631ea355665f28d4707448e442fbf5b8      332   \n",
            "1       ose.exe  9d10f99a6712e28f8acd5641e3a7ea6b      332   \n",
            "2     setup.exe  4d92f518527353c0db88a70fddcfd390      332   \n",
            "3      DW20.EXE  a41e524f8d45f0074fd07805ff0c9b12      332   \n",
            "4  dwtrig20.exe  c87e561258f2f8650cef999bf643a731      332   \n",
            "\n",
            "   SizeOfOptionalHeader  Characteristics  MajorLinkerVersion  \\\n",
            "0                   224              258                   9   \n",
            "1                   224             3330                   9   \n",
            "2                   224             3330                   9   \n",
            "3                   224              258                   9   \n",
            "4                   224              258                   9   \n",
            "\n",
            "   MinorLinkerVersion  SizeOfCode  SizeOfInitializedData  \\\n",
            "0                   0      361984                 115712   \n",
            "1                   0      130560                  19968   \n",
            "2                   0      517120                 621568   \n",
            "3                   0      585728                 369152   \n",
            "4                   0      294912                 247296   \n",
            "\n",
            "   SizeOfUninitializedData  ...  ResourcesNb  ResourcesMeanEntropy  \\\n",
            "0                        0  ...            4              3.262823   \n",
            "1                        0  ...            2              4.250461   \n",
            "2                        0  ...           11              4.426324   \n",
            "3                        0  ...           10              4.364291   \n",
            "4                        0  ...            2              4.306100   \n",
            "\n",
            "   ResourcesMinEntropy  ResourcesMaxEntropy  ResourcesMeanSize  \\\n",
            "0             2.568844             3.537939        8797.000000   \n",
            "1             3.420744             5.080177         837.000000   \n",
            "2             2.846449             5.271813       31102.272727   \n",
            "3             2.669314             6.400720        1457.000000   \n",
            "4             3.421598             5.190603        1074.500000   \n",
            "\n",
            "   ResourcesMinSize  ResourcesMaxSize  LoadConfigurationSize  \\\n",
            "0               216             18032                      0   \n",
            "1               518              1156                     72   \n",
            "2               104            270376                     72   \n",
            "3                90              4264                     72   \n",
            "4               849              1300                     72   \n",
            "\n",
            "   VersionInformationSize  legitimate  \n",
            "0                      16           1  \n",
            "1                      18           1  \n",
            "2                      18           1  \n",
            "3                      18           1  \n",
            "4                      18           1  \n",
            "\n",
            "[5 rows x 57 columns]\n"
          ]
        }
      ],
      "source": [
        "print(malData.head(5))"
      ]
    },
    {
      "cell_type": "code",
      "execution_count": null,
      "metadata": {
        "id": "EgjuK1MMJ_T0"
      },
      "outputs": [],
      "source": [
        "pd.set_option(\"display.max_columns\",None)"
      ]
    },
    {
      "cell_type": "code",
      "execution_count": null,
      "metadata": {
        "id": "Nvs86qV8J_T1",
        "outputId": "589fd83f-8d09-4eee-b0e0-203c210fcbe2"
      },
      "outputs": [
        {
          "name": "stdout",
          "output_type": "stream",
          "text": [
            "           Name                               md5  Machine  \\\n",
            "0   memtest.exe  631ea355665f28d4707448e442fbf5b8      332   \n",
            "1       ose.exe  9d10f99a6712e28f8acd5641e3a7ea6b      332   \n",
            "2     setup.exe  4d92f518527353c0db88a70fddcfd390      332   \n",
            "3      DW20.EXE  a41e524f8d45f0074fd07805ff0c9b12      332   \n",
            "4  dwtrig20.exe  c87e561258f2f8650cef999bf643a731      332   \n",
            "\n",
            "   SizeOfOptionalHeader  Characteristics  MajorLinkerVersion  \\\n",
            "0                   224              258                   9   \n",
            "1                   224             3330                   9   \n",
            "2                   224             3330                   9   \n",
            "3                   224              258                   9   \n",
            "4                   224              258                   9   \n",
            "\n",
            "   MinorLinkerVersion  SizeOfCode  SizeOfInitializedData  \\\n",
            "0                   0      361984                 115712   \n",
            "1                   0      130560                  19968   \n",
            "2                   0      517120                 621568   \n",
            "3                   0      585728                 369152   \n",
            "4                   0      294912                 247296   \n",
            "\n",
            "   SizeOfUninitializedData  AddressOfEntryPoint  BaseOfCode  BaseOfData  \\\n",
            "0                        0                 6135        4096      372736   \n",
            "1                        0                81778        4096      143360   \n",
            "2                        0               350896        4096      811008   \n",
            "3                        0               451258        4096      798720   \n",
            "4                        0               217381        4096      536576   \n",
            "\n",
            "     ImageBase  SectionAlignment  FileAlignment  MajorOperatingSystemVersion  \\\n",
            "0    4194304.0              4096            512                            0   \n",
            "1  771751936.0              4096            512                            5   \n",
            "2  771751936.0              4096            512                            5   \n",
            "3  771751936.0              4096            512                            5   \n",
            "4  771751936.0              4096            512                            5   \n",
            "\n",
            "   MinorOperatingSystemVersion  MajorImageVersion  MinorImageVersion  \\\n",
            "0                            0                  0                  0   \n",
            "1                            1                  0                  0   \n",
            "2                            1                  0                  0   \n",
            "3                            1                  0                  0   \n",
            "4                            1                  0                  0   \n",
            "\n",
            "   MajorSubsystemVersion  MinorSubsystemVersion  SizeOfImage  SizeOfHeaders  \\\n",
            "0                      1                      0      1036288           1024   \n",
            "1                      5                      1       159744           1024   \n",
            "2                      5                      1      1150976           1024   \n",
            "3                      5                      1       962560           1024   \n",
            "4                      5                      1       552960           1024   \n",
            "\n",
            "   CheckSum  Subsystem  DllCharacteristics  SizeOfStackReserve  \\\n",
            "0    485887         16                1024             1048576   \n",
            "1    188943          2               33088             1048576   \n",
            "2   1159817          2               32832             1048576   \n",
            "3    867570          2               33088             1048576   \n",
            "4    579287          2               33088             1048576   \n",
            "\n",
            "   SizeOfStackCommit  SizeOfHeapReserve  SizeOfHeapCommit  LoaderFlags  \\\n",
            "0               4096            1048576              4096            0   \n",
            "1               4096            1048576              4096            0   \n",
            "2               4096            1048576              4096            0   \n",
            "3               4096            1048576              4096            0   \n",
            "4               4096            1048576              4096            0   \n",
            "\n",
            "   NumberOfRvaAndSizes  SectionsNb  SectionsMeanEntropy  SectionsMinEntropy  \\\n",
            "0                   16           8             5.766807            3.607430   \n",
            "1                   16           4             4.839688            2.373525   \n",
            "2                   16           4             6.409558            4.885191   \n",
            "3                   16           4             6.641731            5.642565   \n",
            "4                   16           4             6.252684            4.182282   \n",
            "\n",
            "   SectionsMaxEntropy  SectionsMeanRawsize  SectionsMinRawsize  \\\n",
            "0            7.221051              59712.0                1024   \n",
            "1            6.566909              35584.0                2048   \n",
            "2            7.600957             273408.0               21504   \n",
            "3            7.594929             207872.0               15360   \n",
            "4            7.608305             128128.0                2560   \n",
            "\n",
            "   SectionMaxRawsize  SectionsMeanVirtualsize  SectionsMinVirtualsize  \\\n",
            "0             325120               126875.875                     896   \n",
            "1             130560                37322.000                    1840   \n",
            "2             517120               284498.000                   21456   \n",
            "3             585728               238502.000                   15208   \n",
            "4             294912               135350.000                    2320   \n",
            "\n",
            "   SectionMaxVirtualsize  ImportsNbDLL  ImportsNb  ImportsNbOrdinal  ExportNb  \\\n",
            "0                 551848             0          0                 0         0   \n",
            "1                 130296             7        181                 0         0   \n",
            "2                 516760            14        235                21         1   \n",
            "3                 585488            15        360                 6         1   \n",
            "4                 294816            10        194                 4         1   \n",
            "\n",
            "   ResourcesNb  ResourcesMeanEntropy  ResourcesMinEntropy  \\\n",
            "0            4              3.262823             2.568844   \n",
            "1            2              4.250461             3.420744   \n",
            "2           11              4.426324             2.846449   \n",
            "3           10              4.364291             2.669314   \n",
            "4            2              4.306100             3.421598   \n",
            "\n",
            "   ResourcesMaxEntropy  ResourcesMeanSize  ResourcesMinSize  ResourcesMaxSize  \\\n",
            "0             3.537939        8797.000000               216             18032   \n",
            "1             5.080177         837.000000               518              1156   \n",
            "2             5.271813       31102.272727               104            270376   \n",
            "3             6.400720        1457.000000                90              4264   \n",
            "4             5.190603        1074.500000               849              1300   \n",
            "\n",
            "   LoadConfigurationSize  VersionInformationSize  legitimate  \n",
            "0                      0                      16           1  \n",
            "1                     72                      18           1  \n",
            "2                     72                      18           1  \n",
            "3                     72                      18           1  \n",
            "4                     72                      18           1  \n"
          ]
        }
      ],
      "source": [
        "print(malData.head(5))"
      ]
    },
    {
      "cell_type": "code",
      "execution_count": null,
      "metadata": {
        "id": "KB_hhDW2J_T3",
        "outputId": "b6cfac61-56bd-4adf-c589-abf35ac82ff1"
      },
      "outputs": [
        {
          "name": "stdout",
          "output_type": "stream",
          "text": [
            "      Name                               md5  Machine  SizeOfOptionalHeader  \\\n",
            "1  ose.exe  9d10f99a6712e28f8acd5641e3a7ea6b      332                   224   \n",
            "\n",
            "   Characteristics  MajorLinkerVersion  MinorLinkerVersion  SizeOfCode  \\\n",
            "1             3330                   9                   0      130560   \n",
            "\n",
            "   SizeOfInitializedData  SizeOfUninitializedData  AddressOfEntryPoint  \\\n",
            "1                  19968                        0                81778   \n",
            "\n",
            "   BaseOfCode  BaseOfData    ImageBase  SectionAlignment  FileAlignment  \\\n",
            "1        4096      143360  771751936.0              4096            512   \n",
            "\n",
            "   MajorOperatingSystemVersion  MinorOperatingSystemVersion  \\\n",
            "1                            5                            1   \n",
            "\n",
            "   MajorImageVersion  MinorImageVersion  MajorSubsystemVersion  \\\n",
            "1                  0                  0                      5   \n",
            "\n",
            "   MinorSubsystemVersion  SizeOfImage  SizeOfHeaders  CheckSum  Subsystem  \\\n",
            "1                      1       159744           1024    188943          2   \n",
            "\n",
            "   DllCharacteristics  SizeOfStackReserve  SizeOfStackCommit  \\\n",
            "1               33088             1048576               4096   \n",
            "\n",
            "   SizeOfHeapReserve  SizeOfHeapCommit  LoaderFlags  NumberOfRvaAndSizes  \\\n",
            "1            1048576              4096            0                   16   \n",
            "\n",
            "   SectionsNb  SectionsMeanEntropy  SectionsMinEntropy  SectionsMaxEntropy  \\\n",
            "1           4             4.839688            2.373525            6.566909   \n",
            "\n",
            "   SectionsMeanRawsize  SectionsMinRawsize  SectionMaxRawsize  \\\n",
            "1              35584.0                2048             130560   \n",
            "\n",
            "   SectionsMeanVirtualsize  SectionsMinVirtualsize  SectionMaxVirtualsize  \\\n",
            "1                  37322.0                    1840                 130296   \n",
            "\n",
            "   ImportsNbDLL  ImportsNb  ImportsNbOrdinal  ExportNb  ResourcesNb  \\\n",
            "1             7        181                 0         0            2   \n",
            "\n",
            "   ResourcesMeanEntropy  ResourcesMinEntropy  ResourcesMaxEntropy  \\\n",
            "1              4.250461             3.420744             5.080177   \n",
            "\n",
            "   ResourcesMeanSize  ResourcesMinSize  ResourcesMaxSize  \\\n",
            "1              837.0               518              1156   \n",
            "\n",
            "   LoadConfigurationSize  VersionInformationSize  \n",
            "1                     72                      18  \n"
          ]
        }
      ],
      "source": [
        "print(legit.take([1]))"
      ]
    },
    {
      "cell_type": "code",
      "execution_count": null,
      "metadata": {
        "id": "kDMjDeEvJ_T5",
        "outputId": "d99dbbd9-9463-4824-b291-53b62bd024f0"
      },
      "outputs": [
        {
          "name": "stdout",
          "output_type": "stream",
          "text": [
            "                                              Name  \\\n",
            "41324  VirusShare_9bd57c8252948bd2fa651ad372bd4f13   \n",
            "\n",
            "                                    md5  Machine  SizeOfOptionalHeader  \\\n",
            "41324  9bd57c8252948bd2fa651ad372bd4f13      332                   224   \n",
            "\n",
            "       Characteristics  MajorLinkerVersion  MinorLinkerVersion  SizeOfCode  \\\n",
            "41324              271                   6                   0       24064   \n",
            "\n",
            "       SizeOfInitializedData  SizeOfUninitializedData  AddressOfEntryPoint  \\\n",
            "41324                 164864                     1024                12538   \n",
            "\n",
            "       BaseOfCode  BaseOfData  ImageBase  SectionAlignment  FileAlignment  \\\n",
            "41324        4096       28672  4194304.0              4096            512   \n",
            "\n",
            "       MajorOperatingSystemVersion  MinorOperatingSystemVersion  \\\n",
            "41324                            4                            0   \n",
            "\n",
            "       MajorImageVersion  MinorImageVersion  MajorSubsystemVersion  \\\n",
            "41324                  6                  0                      4   \n",
            "\n",
            "       MinorSubsystemVersion  SizeOfImage  SizeOfHeaders  CheckSum  Subsystem  \\\n",
            "41324                      0       241664           1024         0          2   \n",
            "\n",
            "       DllCharacteristics  SizeOfStackReserve  SizeOfStackCommit  \\\n",
            "41324               32768             1048576               4096   \n",
            "\n",
            "       SizeOfHeapReserve  SizeOfHeapCommit  LoaderFlags  NumberOfRvaAndSizes  \\\n",
            "41324            1048576              4096            0                   16   \n",
            "\n",
            "       SectionsNb  SectionsMeanEntropy  SectionsMinEntropy  \\\n",
            "41324           5             4.104541                 0.0   \n",
            "\n",
            "       SectionsMaxEntropy  SectionsMeanRawsize  SectionsMinRawsize  \\\n",
            "41324            6.440106               6758.4                   0   \n",
            "\n",
            "       SectionMaxRawsize  SectionsMeanVirtualsize  SectionsMinVirtualsize  \\\n",
            "41324              24064                  46260.8                    3144   \n",
            "\n",
            "       SectionMaxVirtualsize  ImportsNbDLL  ImportsNb  ImportsNbOrdinal  \\\n",
            "41324                 154712             8        155                 1   \n",
            "\n",
            "       ExportNb  ResourcesNb  ResourcesMeanEntropy  ResourcesMinEntropy  \\\n",
            "41324         0            6              3.199107             1.971335   \n",
            "\n",
            "       ResourcesMaxEntropy  ResourcesMeanSize  ResourcesMinSize  \\\n",
            "41324             5.214816              452.0                34   \n",
            "\n",
            "       ResourcesMaxSize  LoadConfigurationSize  VersionInformationSize  \n",
            "41324               958                      0                      15  \n"
          ]
        }
      ],
      "source": [
        "print(mal.take([1]))"
      ]
    },
    {
      "cell_type": "code",
      "execution_count": null,
      "metadata": {
        "id": "ICKLI2HBJ_T7"
      },
      "outputs": [],
      "source": [
        "import sklearn\n",
        "import matplotlib.pyplot as plt\n",
        "from sklearn.ensemble import ExtraTreesClassifier\n",
        "from sklearn.model_selection import train_test_split\n",
        "from sklearn.model_selection import cross_validate"
      ]
    },
    {
      "cell_type": "code",
      "execution_count": null,
      "metadata": {
        "id": "CcRu9g8KJ_T9",
        "outputId": "04f0543a-6911-4906-dc2b-475dc0d35798"
      },
      "outputs": [
        {
          "name": "stdout",
          "output_type": "stream",
          "text": [
            "(138047, 54) (138047, 14)\n"
          ]
        }
      ],
      "source": [
        "data_in=malData.drop(['Name','md5','legitimate'],axis=1).values\n",
        "labels=malData['legitimate'].values\n",
        "extratrees=ExtraTreesClassifier().fit(data_in,labels)\n",
        "select=SelectFromModel(extratrees,prefit=True)\n",
        "data_in_new=select.transform(data_in)\n",
        "print(data_in.shape,data_in_new.shape)"
      ]
    },
    {
      "cell_type": "code",
      "execution_count": null,
      "metadata": {
        "id": "chAPwiWJJ_T_",
        "outputId": "82e44412-0ea8-489b-b296-a537b8173130"
      },
      "outputs": [
        {
          "name": "stdout",
          "output_type": "stream",
          "text": [
            "1 DllCharacteristics 0.14173992378347625\n",
            "2 Machine 0.10829671449174151\n",
            "3 Characteristics 0.09780593037472529\n",
            "4 SectionsMaxEntropy 0.066730072677555\n",
            "5 VersionInformationSize 0.0662350767806889\n",
            "6 ImageBase 0.060905767454075346\n",
            "7 Subsystem 0.05694899797752667\n",
            "8 MajorSubsystemVersion 0.05448270053033839\n",
            "9 ResourcesMaxEntropy 0.048955801280193965\n",
            "10 SizeOfOptionalHeader 0.042193101925319804\n",
            "11 ResourcesMinEntropy 0.023698707279211927\n",
            "12 SectionsMeanEntropy 0.022033267267174566\n",
            "13 MajorOperatingSystemVersion 0.021991350192109925\n",
            "14 SectionsMinEntropy 0.019301437171387933\n"
          ]
        }
      ],
      "source": [
        "import numpy as np\n",
        "features=data_in_new.shape[1]\n",
        "importances=extratrees.feature_importances_\n",
        "indices=np.argsort(importances)[::-1]\n",
        "for f in range(features):\n",
        "    print(\"%d\"%(f+1),malData.columns[2+indices[f]],importances[indices[f]])"
      ]
    },
    {
      "cell_type": "code",
      "execution_count": null,
      "metadata": {
        "id": "xOELoMPhJ_UC",
        "outputId": "eaa59844-161f-4321-83d6-1a464dcc3273"
      },
      "outputs": [
        {
          "data": {
            "text/plain": [
              "RandomForestClassifier(n_estimators=50)"
            ]
          },
          "execution_count": 35,
          "metadata": {},
          "output_type": "execute_result"
        }
      ],
      "source": [
        "from sklearn.ensemble import RandomForestClassifier\n",
        "legit_train,legit_test,mal_train,mal_test=train_test_split(data_in_new,labels,test_size=0.2)\n",
        "classif=RandomForestClassifier(n_estimators=50)\n",
        "\n",
        "classif.fit(legit_train,mal_train)"
      ]
    },
    {
      "cell_type": "code",
      "execution_count": null,
      "metadata": {
        "id": "UJIzhAFiJ_UE",
        "outputId": "382a3c9b-17f2-42f2-c572-6bb0d4bd47c3"
      },
      "outputs": [
        {
          "name": "stdout",
          "output_type": "stream",
          "text": [
            "The score of the algorithm:  99.37341542919232\n"
          ]
        }
      ],
      "source": [
        "print(\"The score of the algorithm: \",classif.score(legit_test,mal_test)*100)"
      ]
    },
    {
      "cell_type": "code",
      "execution_count": null,
      "metadata": {
        "id": "uZ1JcPSCJ_UF"
      },
      "outputs": [],
      "source": [
        "from sklearn.metrics import confusion_matrix\n",
        "result=classif.predict(legit_test)\n",
        "conf_mat=confusion_matrix(mal_test,result)"
      ]
    },
    {
      "cell_type": "code",
      "execution_count": null,
      "metadata": {
        "id": "JQ1SGzGZJ_UH",
        "outputId": "d0d4936b-04b3-4bbc-c03d-8d034d8919c7"
      },
      "outputs": [
        {
          "data": {
            "text/plain": [
              "(2, 2)"
            ]
          },
          "execution_count": 39,
          "metadata": {},
          "output_type": "execute_result"
        }
      ],
      "source": [
        "conf_mat.shape"
      ]
    },
    {
      "cell_type": "code",
      "execution_count": null,
      "metadata": {
        "id": "_tLKZifUJ_UI",
        "outputId": "44381335-cdd7-4698-c7a4-e4ee35e58da5"
      },
      "outputs": [
        {
          "data": {
            "text/plain": [
              "numpy.ndarray"
            ]
          },
          "execution_count": 40,
          "metadata": {},
          "output_type": "execute_result"
        }
      ],
      "source": [
        "type(conf_mat)"
      ]
    },
    {
      "cell_type": "code",
      "execution_count": null,
      "metadata": {
        "id": "JQjm8C_TJ_UJ",
        "outputId": "f45471fc-59a1-48fb-e278-30ed88c1799c"
      },
      "outputs": [
        {
          "data": {
            "text/plain": [
              "array([[19290,    79],\n",
              "       [   94,  8147]], dtype=int64)"
            ]
          },
          "execution_count": 41,
          "metadata": {},
          "output_type": "execute_result"
        }
      ],
      "source": [
        "conf_mat"
      ]
    },
    {
      "cell_type": "code",
      "execution_count": null,
      "metadata": {
        "id": "Q3HjGM3cJ_UL",
        "outputId": "7a5ab92e-8fad-4e35-d24c-d1c8359ccd27"
      },
      "outputs": [
        {
          "name": "stdout",
          "output_type": "stream",
          "text": [
            "False positives:  0.40786824306882136\n",
            "False negatives:  1.1406382720543622\n"
          ]
        }
      ],
      "source": [
        "print(\"False positives: \",conf_mat[0][1]/sum(conf_mat[0])*100)\n",
        "print(\"False negatives: \",conf_mat[1][0]/sum(conf_mat[1])*100)"
      ]
    },
    {
      "cell_type": "code",
      "execution_count": null,
      "metadata": {
        "id": "l4PEKHg0J_UM",
        "outputId": "9235aacd-7ba0-44a0-fb79-270ac82ae28d"
      },
      "outputs": [
        {
          "data": {
            "text/plain": [
              "GradientBoostingClassifier(n_estimators=50)"
            ]
          },
          "execution_count": 45,
          "metadata": {},
          "output_type": "execute_result"
        }
      ],
      "source": [
        "from sklearn.ensemble import GradientBoostingClassifier\n",
        "\n",
        "grad_boost=GradientBoostingClassifier(n_estimators=50)\n",
        "grad_boost.fit(legit_train,mal_train)"
      ]
    },
    {
      "cell_type": "code",
      "execution_count": null,
      "metadata": {
        "id": "dE7KdBnMJ_UN",
        "outputId": "62b49382-d8cb-464a-c44c-1947aa8711b1"
      },
      "outputs": [
        {
          "name": "stdout",
          "output_type": "stream",
          "text": [
            "The score of the Gradient Boosting Classifier is:  98.78304961970301\n"
          ]
        }
      ],
      "source": [
        "print(\"The score of the Gradient Boosting Classifier is: \",grad_boost.score(legit_test,mal_test)*100)"
      ]
    },
    {
      "cell_type": "code",
      "execution_count": null,
      "metadata": {
        "id": "6ykS7wJTJ_UP",
        "outputId": "c91ab7ee-34c4-4566-d52e-76a83c20873c"
      },
      "outputs": [
        {
          "data": {
            "text/plain": [
              "KNeighborsClassifier(n_neighbors=3)"
            ]
          },
          "execution_count": 47,
          "metadata": {},
          "output_type": "execute_result"
        }
      ],
      "source": [
        "from sklearn.neighbors import KNeighborsClassifier\n",
        "classifier = KNeighborsClassifier(n_neighbors = 3, metric = 'minkowski', p = 2)\n",
        "classifier.fit(legit_train, mal_train)"
      ]
    },
    {
      "cell_type": "code",
      "execution_count": null,
      "metadata": {
        "id": "zBJCRxA5J_UQ"
      },
      "outputs": [],
      "source": [
        "mal_pred = classifier.predict(legit_test)"
      ]
    },
    {
      "cell_type": "code",
      "execution_count": null,
      "metadata": {
        "id": "Zft_Wf6WJ_UR",
        "outputId": "db732eab-e120-48e9-f8c0-5c7d21efd87b"
      },
      "outputs": [
        {
          "name": "stdout",
          "output_type": "stream",
          "text": [
            "The score of the knn is:  98.98949655921767\n"
          ]
        }
      ],
      "source": [
        "print(\"The score of the knn is: \",classifier.score(legit_test,mal_test)*100)"
      ]
    }
  ],
  "metadata": {
    "kernelspec": {
      "display_name": "Python 3",
      "language": "python",
      "name": "python3"
    },
    "language_info": {
      "codemirror_mode": {
        "name": "ipython",
        "version": 3
      },
      "file_extension": ".py",
      "mimetype": "text/x-python",
      "name": "python",
      "nbconvert_exporter": "python",
      "pygments_lexer": "ipython3",
      "version": "3.8.5"
    },
    "colab": {
      "name": "Sahil_Malware Detection.ipynb",
      "provenance": []
    }
  },
  "nbformat": 4,
  "nbformat_minor": 0
}